{
 "cells": [
  {
   "cell_type": "markdown",
   "metadata": {},
   "source": [
    "Our logo is designed in a Keynote document. This is nice, but annoyingly Keynote cannot export png's with alpha transparency.\n",
    "\n",
    "The first page of the Keynote document is a pure black and white version of the logo. We load this using Menpo, and use Pillow to export a PNG with alpha transparency."
   ]
  },
  {
   "cell_type": "code",
   "execution_count": null,
   "metadata": {
    "collapsed": false
   },
   "outputs": [],
   "source": [
    "import numpy as np\n",
    "import menpo\n",
    "from PIL import Image as PILImage\n",
    "\n",
    "dark_blue = (10, 78, 178)  # use the blue we use in the landmarker.io UI\n",
    "\n",
    "# import the png export from Keynote\n",
    "i = menpo.io.import_image('./landmarkerio_logo/landmarkerio_logo.001.png')\n",
    "i.pixels = i.pixels[:3]\n",
    "alpha = ((1 - i.as_greyscale(mode='average').pixels) * 255).astype(np.uint8)[0]\n",
    "\n",
    "pixels = np.zeros(alpha.shape + (4,), dtype=np.uint8)\n",
    "pixels[..., 3] = alpha\n",
    "pixels[..., :3] = dark_blue\n",
    "\n",
    "pil_image = PILImage.fromarray(pixels)"
   ]
  },
  {
   "cell_type": "code",
   "execution_count": null,
   "metadata": {
    "collapsed": true
   },
   "outputs": [],
   "source": [
    "pil_image.save('./landmarker_with_alpha.png')"
   ]
  }
 ],
 "metadata": {
  "kernelspec": {
   "display_name": "Python 2",
   "language": "python",
   "name": "python2"
  },
  "language_info": {
   "codemirror_mode": {
    "name": "ipython",
    "version": 2
   },
   "file_extension": ".py",
   "mimetype": "text/x-python",
   "name": "python",
   "nbconvert_exporter": "python",
   "pygments_lexer": "ipython2",
   "version": "2.7.10"
  }
 },
 "nbformat": 4,
 "nbformat_minor": 0
}
